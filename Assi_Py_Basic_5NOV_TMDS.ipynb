{
 "cells": [
  {
   "cell_type": "code",
   "execution_count": 1,
   "id": "ac10a1cd",
   "metadata": {},
   "outputs": [],
   "source": [
    "## Python Basic - Assignment"
   ]
  },
  {
   "cell_type": "code",
   "execution_count": 2,
   "id": "80aba698",
   "metadata": {},
   "outputs": [
    {
     "name": "stdout",
     "output_type": "stream",
     "text": [
      "This is Python's basic Exercise\n"
     ]
    }
   ],
   "source": [
    "a = \"This is Python's basic Exercise\"  ## define variable a\n",
    "print (a)                              ## print value stored in variable"
   ]
  },
  {
   "cell_type": "code",
   "execution_count": 3,
   "id": "d9c724e9",
   "metadata": {},
   "outputs": [
    {
     "name": "stdout",
     "output_type": "stream",
     "text": [
      "This is Python's basic Exercise\n",
      "this is changed message\n"
     ]
    }
   ],
   "source": [
    "b = \"This is Python's basic Exercise\"\n",
    "print (b)\n",
    "b = \"this is changed message\"\n",
    "print(b)"
   ]
  },
  {
   "cell_type": "code",
   "execution_count": 4,
   "id": "1cde37de",
   "metadata": {},
   "outputs": [
    {
     "name": "stdout",
     "output_type": "stream",
     "text": [
      "hello Sanket Do you like python?\n"
     ]
    }
   ],
   "source": [
    "name = 'Sanket'\n",
    "print ( \"hello\",name,'Do you like python?')"
   ]
  },
  {
   "cell_type": "code",
   "execution_count": null,
   "id": "1d93e81f",
   "metadata": {},
   "outputs": [],
   "source": [
    "quote = str(input('your quote'))\n",
    "name = str(input(\"author's name\"))\n",
    "print (name,\"once said,\",quote)"
   ]
  },
  {
   "cell_type": "code",
   "execution_count": null,
   "id": "0120778e",
   "metadata": {},
   "outputs": [],
   "source": [
    "quote = str(input('your quote:- '))\n",
    "famous_person = str(input(\"author's name:- \"))\n",
    "final= famous_person,\"once said\",quote\n",
    "\n",
    "print(final)"
   ]
  },
  {
   "cell_type": "code",
   "execution_count": null,
   "id": "9331a135",
   "metadata": {},
   "outputs": [],
   "source": [
    "print (6+2)\n",
    "print (10-2)\n",
    "print (4*2)\n",
    "print (int(16/2))"
   ]
  },
  {
   "cell_type": "code",
   "execution_count": null,
   "id": "e5cbea8a",
   "metadata": {},
   "outputs": [],
   "source": [
    "Fav_Number = input (\"State your fav Number:- \")\n",
    "print (\"Your Most Favourite Number is\", Fav_Number)"
   ]
  },
  {
   "cell_type": "code",
   "execution_count": null,
   "id": "0acf885b",
   "metadata": {},
   "outputs": [],
   "source": [
    "names = [\"a\",\"bb\",\"ccc\",\"dddd\"]     ## calling each name from list.\n",
    "print (names[0])\n",
    "print (names[1])\n",
    "print (names[2])\n",
    "print (names[3])\n",
    "print (names[2])"
   ]
  },
  {
   "cell_type": "code",
   "execution_count": null,
   "id": "c2d5323b",
   "metadata": {},
   "outputs": [],
   "source": [
    "## calling each name from list with peronal message.\n",
    "names = [\"a\",\"bb\",\"ccc\",\"dddd\"]  \n",
    "print (\"hi\",names[0])\n",
    "print (names[1], \"can we go now?\")\n",
    "print (\"what a lovely outfit\",names[2])\n",
    "print (\"So\", names[3], \"what's your plan for diwali?\")\n",
    "print (names[3])"
   ]
  },
  {
   "cell_type": "code",
   "execution_count": null,
   "id": "14f74346",
   "metadata": {},
   "outputs": [],
   "source": [
    "## Making List from Varialble.\n",
    "a = input (\"Your Favourite mode of Transportation 1:- \")\n",
    "b = input (\"Your Favourite mode of Transportation 2:- \")\n",
    "c = input (\"Your Favourite mode of Transportation 3:- \")\n",
    "d = input (\"Your Favourite mode of Transportation 4:- \")\n",
    "\n",
    "mode_transport = [a, b, c, d]\n",
    "print(mode_transport)\n",
    "\n",
    "print ('I like to own',mode_transport[1])\n",
    "print (\"I prefer more\",mode_transport[0],\"but more efficient is\",mode_transport[2],\",even though\",mode_transport[3],\"has accessible in whole city area\" )"
   ]
  },
  {
   "cell_type": "code",
   "execution_count": null,
   "id": "10dbcaaf",
   "metadata": {},
   "outputs": [],
   "source": [
    "### If statement exercise"
   ]
  },
  {
   "cell_type": "code",
   "execution_count": null,
   "id": "3438acb0",
   "metadata": {},
   "outputs": [],
   "source": [
    "# #### 1. Write a program that reads an integer from the user.Then your program should display a message indicating whether the integer is even or odd."
   ]
  },
  {
   "cell_type": "code",
   "execution_count": null,
   "id": "40801109",
   "metadata": {},
   "outputs": [],
   "source": [
    "number = int(input('enter a number:-'))\n",
    "if (number%2) == 0:\n",
    "    print (number, 'is even.')\n",
    "else:\n",
    "    print(number, 'is odd.')"
   ]
  },
  {
   "cell_type": "code",
   "execution_count": null,
   "id": "011b3457",
   "metadata": {},
   "outputs": [],
   "source": [
    "#### 2. Write a program that implements the conversion from human years to dog years described in the previous paragraph. Ensure that your program works correctly for conversions of less than two human years and for conversions of two or more human years. Your program should display an appropriate error message if the user enters a negative number."
   ]
  },
  {
   "cell_type": "code",
   "execution_count": null,
   "id": "d2ad0c60",
   "metadata": {},
   "outputs": [],
   "source": []
  },
  {
   "cell_type": "code",
   "execution_count": null,
   "id": "da896bf7",
   "metadata": {},
   "outputs": [],
   "source": [
    "### 3 Create a program that reads a letter of the alphabet from the user. If the user enters a, e, i, o or u then your program should display a message indicating that the entered letter is a vowel. If the user enters y then your program should display a message indicating that sometimes y is a vowel, and sometimes y is a consonant. Otherwise your program should display a message indicating that the letter is a consonant."
   ]
  },
  {
   "cell_type": "code",
   "execution_count": null,
   "id": "94b00543",
   "metadata": {},
   "outputs": [],
   "source": [
    "letter = str(input('enter a alphabet:- '))\n",
    "if letter.lower() in ('a', 'e', 'i', 'o', 'u'):\n",
    "    print (letter,'is vowel')\n",
    "elif letter.lower() == 'y':\n",
    "    print (letter,\"is a vowel sometimes, and sometimes\",letter,\"is a consonant.\")\n",
    "else:\n",
    "    print (letter,\"is a consonant.\")"
   ]
  },
  {
   "cell_type": "code",
   "execution_count": null,
   "id": "6cba7fe5",
   "metadata": {},
   "outputs": [],
   "source": [
    "# 4 Write a program that determines the name of a shape from its number of sides. Read the number of sides from the user and then report the appropriate name as part of a meaningful message. Your program should support shapes with anywhere from 3 up to (and including) 10 sides. If a number of sides outside of this range is entered then your program should display an appropriate error message."
   ]
  },
  {
   "cell_type": "code",
   "execution_count": 15,
   "id": "b706ad82",
   "metadata": {},
   "outputs": [
    {
     "name": "stdout",
     "output_type": "stream",
     "text": [
      "Enter the number side of shape:- 9\n",
      "This shape is Nonagon\n"
     ]
    }
   ],
   "source": [
    "sides = input('Enter the number side of shape:- ')\n",
    "if sides == '3':\n",
    "    print ('This shape is Triangle')\n",
    "elif sides == '4':\n",
    "    print ('This shape is Quadrilateral')\n",
    "elif sides == '5':\n",
    "    print ('This shape is Pentagon')\n",
    "elif sides == '6':\n",
    "    print ('This shape is Hexagon')\n",
    "elif sides == '7':\n",
    "    print ('This shape is Heptagon')\n",
    "elif sides == '8':\n",
    "    print ('This shape is Octagon')\n",
    "elif sides == '9':\n",
    "    print ('This shape is Nonagon')\n",
    "elif sides == '10':\n",
    "    print ('This shape is Decagon')\n",
    "else:\n",
    "    print('Entered input of number of shape side is out of range')"
   ]
  },
  {
   "cell_type": "code",
   "execution_count": 12,
   "id": "a9d1306f",
   "metadata": {},
   "outputs": [
    {
     "name": "stdout",
     "output_type": "stream",
     "text": [
      "Enter the number side of shape:- 5\n",
      "This is Pentagon\n"
     ]
    }
   ],
   "source": [
    "sides = int(input('Enter the number side of shape:- '))\n",
    "shape = {3:'Triangle', 4:'Quadrilateral',5:'Pentagon',6:'Hexagon',7:'Heptagon',8:'Octagon',9:'Nonagon',10:'Decagon'}\n",
    "if sides<2 or sides>10:\n",
    "    Print (\"Entered input of number of shape side is out of range\")\n",
    "else:\n",
    "    print(\"This is\",shape[sides])"
   ]
  },
  {
   "cell_type": "code",
   "execution_count": null,
   "id": "5e645462",
   "metadata": {},
   "outputs": [],
   "source": [
    "## 5. The length of a month varies from 28 to 31 days. In this exercise you will create a program that reads the name of a month from the user as a string. Then your program should display the number of days in that month. Display “28 or 29 days” for February so that leap years are addressed."
   ]
  },
  {
   "cell_type": "code",
   "execution_count": 48,
   "id": "1c4d5d40",
   "metadata": {},
   "outputs": [
    {
     "name": "stdout",
     "output_type": "stream",
     "text": [
      "Please Enter Month number:- 7\n",
      "Enter YEar:- 1999\n",
      "Month have 31 days.\n"
     ]
    }
   ],
   "source": [
    "month = int(input(\"Please Enter Month number:- \"))\n",
    "year = int(input(\"Enter YEar:- \"))\n",
    "t = [4,6,9,11]\n",
    "if month == 2:\n",
    "    if year%4 ==0 or year%400 ==0:\n",
    "        print (\"Month have 29 Days.\")\n",
    "    else:\n",
    "        print (\"Month have 28 days.\")\n",
    "elif month in t:\n",
    "    print(\"Month have 30 days.\")\n",
    "else:\n",
    "    print(\"Month have 31 days.\")"
   ]
  },
  {
   "cell_type": "code",
   "execution_count": null,
   "id": "dc5a7d5a",
   "metadata": {},
   "outputs": [],
   "source": [
    "## 6. The following table lists the sound level in decibels for several common noises.\"Noise Decibel level (dB) Jackhammer 130 Gas lawnmower 106 Alarm clock 70 Quiet room 40\". Write a program that reads a sound level in decibels from the user. If the user enters a decibel level that matches one of the noises in the table then your program should display a message containing only that noise. If the user enters a number of decibels between the noises listed then your program should display a message indicating which noises the level is between. Ensure that your program also generates reasonable output for a value smaller than the quietest noise in the table, and for a value larger than the loudest noise in the table."
   ]
  },
  {
   "cell_type": "code",
   "execution_count": 15,
   "id": "31145435",
   "metadata": {},
   "outputs": [
    {
     "name": "stdout",
     "output_type": "stream",
     "text": [
      "Enter the Decibel Value:- 166\n",
      "Noise level is more than Jackhammer noise.\n"
     ]
    }
   ],
   "source": [
    "db = int(input(\"Enter the Decibel Value:- \"))\n",
    "level = {130:'jackhammer', 106:'Gas lawnmover', 70:'Alarm Clock', 40:'Quiet Room'}\n",
    "if db in level:\n",
    "    print(\"Noise level is\",level[db])\n",
    "elif db<40:\n",
    "    print ('Noise level is lower than Quite room noise.')\n",
    "elif db>40 and db<70:\n",
    "    print ('Noise level is between Quite room and Alram clock noise.')\n",
    "elif db>70 and db<106:\n",
    "    print ('Noise level is between Alram clock and Gas lawnmover noise.')\n",
    "elif db>106 and db<130:\n",
    "    print ('Noise level is between Gas lawnmover and Jackhammer noise.')\n",
    "else:\n",
    "    print ('Noise level is more than Jackhammer noise.')"
   ]
  },
  {
   "cell_type": "code",
   "execution_count": null,
   "id": "db7bce83",
   "metadata": {},
   "outputs": [],
   "source": [
    "###7  Begin by writing a program that reads the name of a note from the user and displays the note’s frequency. Your program should support all of the notes listed previously."
   ]
  },
  {
   "cell_type": "code",
   "execution_count": null,
   "id": "3ff81fcb",
   "metadata": {},
   "outputs": [],
   "source": []
  },
  {
   "cell_type": "code",
   "execution_count": null,
   "id": "f2ed02d7",
   "metadata": {},
   "outputs": [],
   "source": [
    "## 8 write a program that reverses that process. Begin by reading a frequency from the user. If the frequency is within one Hertz of a value listed in the table in the previous question then report the name of the note.\n"
   ]
  },
  {
   "cell_type": "code",
   "execution_count": null,
   "id": "2843516b",
   "metadata": {},
   "outputs": [],
   "source": []
  },
  {
   "cell_type": "code",
   "execution_count": null,
   "id": "3142134c",
   "metadata": {},
   "outputs": [],
   "source": [
    "##  9 Write a program that reads a wavelength from the user and reports its color. Display an appropriate error message if the wavelength entered by the user is outside of the visible spectrum."
   ]
  },
  {
   "cell_type": "code",
   "execution_count": 2,
   "id": "25797e2d",
   "metadata": {},
   "outputs": [
    {
     "name": "stdout",
     "output_type": "stream",
     "text": [
      "Input Wavelength(nm): 610\n",
      "this color is orange\n"
     ]
    }
   ],
   "source": [
    "wl=float(input(\"Input Wavelength(nm): \"))\n",
    "\n",
    "if 380<=wl<450:\n",
    "    print(\"this color is violet\")\n",
    "elif 450<=wl<495:\n",
    "    print(\"this color is blue\")\n",
    "elif 495<=wl<570:\n",
    "    print(\"this color is green\")\n",
    "elif 570<=wl<590:\n",
    "    print(\"this color is yellow\")\n",
    "elif 590<=wl<620:\n",
    "    print(\"this color is orange\")\n",
    "elif 620<=wl<750:\n",
    "    print(\"this color is red\")\n",
    "else:\n",
    "    print('This input wavelength is outside of range.')\n"
   ]
  },
  {
   "cell_type": "code",
   "execution_count": null,
   "id": "78bf63e4",
   "metadata": {},
   "outputs": [],
   "source": []
  },
  {
   "cell_type": "code",
   "execution_count": 16,
   "id": "f874f042",
   "metadata": {},
   "outputs": [],
   "source": [
    "## list exercise"
   ]
  },
  {
   "cell_type": "code",
   "execution_count": 3,
   "id": "f2d3e416",
   "metadata": {},
   "outputs": [
    {
     "name": "stdout",
     "output_type": "stream",
     "text": [
      "[2, 10, 12, 20, 18, 29, 24, 48, 17, 25, 23]\n",
      "[2, 10, 12, 17, 18, 20, 23, 24, 25, 29, 48]\n",
      "[10, 12, 17, 18, 20, 23, 24, 25, 29]\n"
     ]
    }
   ],
   "source": [
    "##1\n",
    "n = [2, 10, 12, 20, 18, 29, 24, 48, 17, 25, 23]\n",
    "print(n)\n",
    "n.sort()\n",
    "print(n)\n",
    "n.pop()\n",
    "n.pop(0)\n",
    "print(n)"
   ]
  },
  {
   "cell_type": "code",
   "execution_count": 1,
   "id": "b3bcd969",
   "metadata": {},
   "outputs": [
    {
     "name": "stdout",
     "output_type": "stream",
     "text": [
      "number of Observation:- 7\n",
      "Enter observation:- 2\n",
      "[2]\n",
      "Enter observation:- 4\n",
      "[2, 4]\n",
      "Enter observation:- 6\n",
      "[2, 4, 6]\n",
      "Enter observation:- 8\n",
      "[2, 4, 6, 8]\n",
      "Enter observation:- 3\n",
      "[2, 4, 6, 8, 3]\n",
      "Enter observation:- 4\n",
      "[2, 4, 6, 8, 3, 4]\n",
      "Enter observation:- 8\n",
      "[2, 4, 6, 8, 3, 4, 8]\n",
      "[2, 3, 4, 4, 6, 8, 8]\n",
      "[2, 3, 4, 4, 6]\n",
      "[4, 4, 6]\n"
     ]
    }
   ],
   "source": [
    "a = []\n",
    "\n",
    "n = int(input(\"number of Observation:- \"))\n",
    "\n",
    "for i in range (0,n):\n",
    "    obs = int(input(\"Enter observation:- \"))\n",
    "    a.append(obs)\n",
    "    print (a)\n",
    "a.sort()\n",
    "print(a)\n",
    "if (len(a)>4):\n",
    "    a.pop(n-1)\n",
    "    a.pop(n-2)\n",
    "    print(a)\n",
    "    a.pop(0)\n",
    "    a.pop(0)\n",
    "    print(a)\n",
    "\n",
    "else:\n",
    "    print (\"Entered observation is insufficient.\")"
   ]
  },
  {
   "cell_type": "code",
   "execution_count": null,
   "id": "67600b15",
   "metadata": {},
   "outputs": [],
   "source": [
    "## 2\n",
    "\n"
   ]
  }
 ],
 "metadata": {
  "kernelspec": {
   "display_name": "Python 3 (ipykernel)",
   "language": "python",
   "name": "python3"
  },
  "language_info": {
   "codemirror_mode": {
    "name": "ipython",
    "version": 3
   },
   "file_extension": ".py",
   "mimetype": "text/x-python",
   "name": "python",
   "nbconvert_exporter": "python",
   "pygments_lexer": "ipython3",
   "version": "3.9.12"
  }
 },
 "nbformat": 4,
 "nbformat_minor": 5
}
